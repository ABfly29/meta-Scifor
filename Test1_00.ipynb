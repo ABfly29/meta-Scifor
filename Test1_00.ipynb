{
  "nbformat": 4,
  "nbformat_minor": 0,
  "metadata": {
    "colab": {
      "provenance": []
    },
    "kernelspec": {
      "name": "python3",
      "display_name": "Python 3"
    },
    "language_info": {
      "name": "python"
    }
  },
  "cells": [
    {
      "cell_type": "code",
      "execution_count": 1,
      "metadata": {
        "id": "O9NRP8YIXlth"
      },
      "outputs": [],
      "source": [
        "#1- Create an empty list called fruits.\n",
        "fruits = []\n"
      ]
    },
    {
      "cell_type": "code",
      "source": [
        "#2- Add \"apple\" to the fruits list using append().\n",
        "fruits.append(\"apple\")\n",
        "\n"
      ],
      "metadata": {
        "id": "ZBb7W0rMYD9M"
      },
      "execution_count": 2,
      "outputs": []
    },
    {
      "cell_type": "code",
      "source": [
        "#3- Add another list [\"banana\", \"cherry\"] to fruits using extend().\n",
        "fruits.extend([\"banana\", \"cherry\"])"
      ],
      "metadata": {
        "id": "j62fJtVIYMun"
      },
      "execution_count": 10,
      "outputs": []
    },
    {
      "cell_type": "code",
      "source": [
        "#4- Remove \"banana\" from the fruits list using remove().\n",
        "fruits.remove(\"banana\")"
      ],
      "metadata": {
        "id": "HNjAJkUlYP_V"
      },
      "execution_count": 11,
      "outputs": []
    },
    {
      "cell_type": "code",
      "source": [
        "#5- Remove the last item from fruits using pop().\n",
        "fruits.pop()"
      ],
      "metadata": {
        "colab": {
          "base_uri": "https://localhost:8080/",
          "height": 35
        },
        "id": "pUrG9ecnYTIR",
        "outputId": "4ed71f1d-fd12-474a-9e0b-c366619c0892"
      },
      "execution_count": 12,
      "outputs": [
        {
          "output_type": "execute_result",
          "data": {
            "text/plain": [
              "'cherry'"
            ],
            "application/vnd.google.colaboratory.intrinsic+json": {
              "type": "string"
            }
          },
          "metadata": {},
          "execution_count": 12
        }
      ]
    },
    {
      "cell_type": "code",
      "source": [
        "#6- Reverse the fruits list using reverse().\n",
        "fruits.reverse()"
      ],
      "metadata": {
        "id": "qhkX-Ug7YVjq"
      },
      "execution_count": 13,
      "outputs": []
    },
    {
      "cell_type": "code",
      "source": [
        "#7- Insert \"mango\" at index 1 in the fruits list using insert().\n",
        "fruits.insert(1, \"mango\")"
      ],
      "metadata": {
        "id": "YaBH6IIUYYUZ"
      },
      "execution_count": 14,
      "outputs": []
    },
    {
      "cell_type": "code",
      "source": [
        "#8- Print elements from index 2 to 4 using slicing.\n",
        "print(fruits[2:5])"
      ],
      "metadata": {
        "colab": {
          "base_uri": "https://localhost:8080/"
        },
        "id": "f7fpevr6Ya-L",
        "outputId": "ddfd389d-bf63-4888-e61c-367d5bb7bc06"
      },
      "execution_count": 15,
      "outputs": [
        {
          "output_type": "stream",
          "name": "stdout",
          "text": [
            "[]\n"
          ]
        }
      ]
    },
    {
      "cell_type": "code",
      "source": [
        "#9- Create a list of numbers from 1 to 5.\n",
        "numbers = list(range(1, 6))"
      ],
      "metadata": {
        "id": "TCCMXzn1YjLq"
      },
      "execution_count": 16,
      "outputs": []
    },
    {
      "cell_type": "code",
      "source": [
        "#10- Print the first and last element of the list using indexing.\n",
        "print(numbers[0])\n",
        "print(numbers[-1])"
      ],
      "metadata": {
        "colab": {
          "base_uri": "https://localhost:8080/"
        },
        "id": "Ed6kRPvAYm34",
        "outputId": "bef92d1f-fa89-440f-9203-6f77d4e88afd"
      },
      "execution_count": 17,
      "outputs": [
        {
          "output_type": "stream",
          "name": "stdout",
          "text": [
            "1\n",
            "5\n"
          ]
        }
      ]
    },
    {
      "cell_type": "code",
      "source": [
        "#11- Change the value at index 2 to 10.\n",
        "numbers[2] = 10"
      ],
      "metadata": {
        "id": "rmlUl3_lYmtV"
      },
      "execution_count": 18,
      "outputs": []
    },
    {
      "cell_type": "code",
      "source": [
        "#12- Check if \"grape\" exists in the list fruits, and print a message.\n",
        "if \"grape\" in fruits:\n",
        "    print(\"grape is in the list.\")\n",
        "else:\n",
        "    print(\"grape is not in the list.\")"
      ],
      "metadata": {
        "colab": {
          "base_uri": "https://localhost:8080/"
        },
        "id": "vwekCAR0YmTR",
        "outputId": "52273ad5-13d3-4ae5-ec33-de5ba7ac00c2"
      },
      "execution_count": 19,
      "outputs": [
        {
          "output_type": "stream",
          "name": "stdout",
          "text": [
            "grape is not in the list.\n"
          ]
        }
      ]
    },
    {
      "cell_type": "code",
      "source": [
        "#13- Use a loop to print all items in the list one by one.\n",
        "for fruit in fruits:\n",
        "    print(fruit)"
      ],
      "metadata": {
        "colab": {
          "base_uri": "https://localhost:8080/"
        },
        "id": "k0If37vkYmLW",
        "outputId": "8275bf68-b6d6-489a-cd47-3ca7fa7c2b50"
      },
      "execution_count": 20,
      "outputs": [
        {
          "output_type": "stream",
          "name": "stdout",
          "text": [
            "apple\n",
            "mango\n"
          ]
        }
      ]
    },
    {
      "cell_type": "code",
      "source": [
        "#14- Use len() to print the number of items in the list.\n",
        "print(len(fruits))"
      ],
      "metadata": {
        "colab": {
          "base_uri": "https://localhost:8080/"
        },
        "id": "YKoMo6s4Yl_9",
        "outputId": "80ae4bf9-5fb1-486a-a4d7-99e73cd4d2a6"
      },
      "execution_count": 21,
      "outputs": [
        {
          "output_type": "stream",
          "name": "stdout",
          "text": [
            "2\n"
          ]
        }
      ]
    },
    {
      "cell_type": "code",
      "source": [
        "#1- Create a tuple of numbers like (1, 2, 3, 2, 4, 2).\n",
        "numbers = (1, 2, 3, 2, 4, 2)\n",
        "\n",
        "#2- Use count() to find how many times 2 appears.\n",
        "print(numbers.count(2))\n",
        "\n",
        "#3- Use index() to find the index of the number 4.\n",
        "print(numbers.index(4))\n",
        "\n",
        "#4- If you want to add an item to a tuple, how will you convert it to a list, append the item, and convert it back to a tuple?\n",
        "numbers_list = list(numbers)\n",
        "numbers_list.append(5)\n",
        "numbers = tuple(numbers_list)\n",
        "\n",
        "#5- Create a tuple of 3 strings: \"red\", \"green\", \"blue\".\n",
        "colors = (\"red\", \"green\", \"blue\")\n",
        "\n",
        "#6- Try changing the first item of the tuple — what error do you get?\n",
        "colors = (\"red\", \"green\", \"blue\")\n",
        "colors[0] = \"yellow\"\n",
        "#ErrorOutput: 'tuple' object does not support item assignment\n",
        "\n",
        "#7- Convert this tuple to a list, add a new color, and convert it back to a tuple.\n",
        "colors_list = list(colors)\n",
        "colors_list.append(\"yellow\")\n",
        "colors = tuple(colors_list)"
      ],
      "metadata": {
        "colab": {
          "base_uri": "https://localhost:8080/",
          "height": 245
        },
        "id": "HincQaKIYeKO",
        "outputId": "109ee6b3-4253-48d2-8551-a28b284c6ea4"
      },
      "execution_count": 22,
      "outputs": [
        {
          "output_type": "stream",
          "name": "stdout",
          "text": [
            "3\n",
            "4\n"
          ]
        },
        {
          "output_type": "error",
          "ename": "TypeError",
          "evalue": "'tuple' object does not support item assignment",
          "traceback": [
            "\u001b[0;31m---------------------------------------------------------------------------\u001b[0m",
            "\u001b[0;31mTypeError\u001b[0m                                 Traceback (most recent call last)",
            "\u001b[0;32m<ipython-input-22-4af4ee8b71a1>\u001b[0m in \u001b[0;36m<cell line: 0>\u001b[0;34m()\u001b[0m\n\u001b[1;32m     18\u001b[0m \u001b[0;31m#6- Try changing the first item of the tuple — what error do you get?\u001b[0m\u001b[0;34m\u001b[0m\u001b[0;34m\u001b[0m\u001b[0m\n\u001b[1;32m     19\u001b[0m \u001b[0mcolors\u001b[0m \u001b[0;34m=\u001b[0m \u001b[0;34m(\u001b[0m\u001b[0;34m\"red\"\u001b[0m\u001b[0;34m,\u001b[0m \u001b[0;34m\"green\"\u001b[0m\u001b[0;34m,\u001b[0m \u001b[0;34m\"blue\"\u001b[0m\u001b[0;34m)\u001b[0m\u001b[0;34m\u001b[0m\u001b[0;34m\u001b[0m\u001b[0m\n\u001b[0;32m---> 20\u001b[0;31m \u001b[0mcolors\u001b[0m\u001b[0;34m[\u001b[0m\u001b[0;36m0\u001b[0m\u001b[0;34m]\u001b[0m \u001b[0;34m=\u001b[0m \u001b[0;34m\"yellow\"\u001b[0m\u001b[0;34m\u001b[0m\u001b[0;34m\u001b[0m\u001b[0m\n\u001b[0m\u001b[1;32m     21\u001b[0m \u001b[0;34m\u001b[0m\u001b[0m\n\u001b[1;32m     22\u001b[0m \u001b[0;31m#7- Convert this tuple to a list, add a new color, and convert it back to a tuple.\u001b[0m\u001b[0;34m\u001b[0m\u001b[0;34m\u001b[0m\u001b[0m\n",
            "\u001b[0;31mTypeError\u001b[0m: 'tuple' object does not support item assignment"
          ]
        }
      ]
    },
    {
      "cell_type": "code",
      "source": [
        "#1- Create an empty set called my_set.\n",
        "my_set = set()\n",
        "\n",
        "#2- Add \"apple\" and \"banana\" to my_set using add().\n",
        "my_set.add(\"apple\")\n",
        "my_set.add(\"banana\")\n",
        "\n",
        "#3- Do sets allow duplicate values? Explain with an example.\n",
        "example_set = {\"apple\", \"banana\", \"apple\"}\n",
        "print(example_set)\n",
        "#sets dont print duplicates\n",
        "\n",
        "#4- Create two sets: set1 = {1, 2, 3} set2 = {3, 4, 5} Find the union and intersection of the sets.\n",
        "set1 = {1, 2, 3}\n",
        "set2 = {3, 4, 5}\n",
        "print(set1.union(set2))\n",
        "print(set1.intersection(set2))\n",
        "\n",
        "#5- Remove an item from a set using discard().\n",
        "my_set.discard(\"banana\")\n",
        "\n",
        "#6- Use a loop to print all elements in a set.\n",
        "for item in my_set:\n",
        "    print(item)"
      ],
      "metadata": {
        "colab": {
          "base_uri": "https://localhost:8080/"
        },
        "id": "RlrrfZnPbfWF",
        "outputId": "afb55354-1908-4bd7-9a9c-839787b64007"
      },
      "execution_count": 25,
      "outputs": [
        {
          "output_type": "stream",
          "name": "stdout",
          "text": [
            "{'banana', 'apple'}\n",
            "{1, 2, 3, 4, 5}\n",
            "{3}\n",
            "apple\n"
          ]
        }
      ]
    },
    {
      "cell_type": "code",
      "source": [
        "#1- Create a dictionary with a key \"name\" and value \"Ali\".\n",
        "person = {\"name\": \"Ali\"}\n",
        "\n",
        "\n",
        "#2- Access the value of the key \"name\".\n",
        "print(person[\"name\"])\n",
        "\n",
        "#3- Add a new key \"age\" with the value 25.\n",
        "person[\"age\"] = 25\n",
        "\n",
        "#4- Update the value of \"name\" to \"Ahmed\".\n",
        "person[\"name\"] = \"Ahmed\"\n",
        "\n",
        "#5- Create a dictionary of a student: {\"name\": \"Sara\", \"grade\": \"A\", \"age\": 17}\n",
        "student = {\"name\": \"Sara\", \"grade\": \"A\", \"age\": 17}\n",
        "\n",
        "\n",
        "#6- Print all keys in the dictionary.\n",
        "print(student.keys())\n",
        "\n",
        "\n",
        "#7- Print all values in the dictionary.\n",
        "print(student.values())\n",
        "\n",
        "\n",
        "#8- Check if \"grade\" key exists in the dictionary.\n",
        "if \"grade\" in student:\n",
        "    print(\"grade exists\")\n",
        "\n",
        "\n",
        "#9- Loop through the dictionary and print each key and its value.\n",
        "for key, value in student.items():\n",
        "    print(key, \":\", value)\n"
      ],
      "metadata": {
        "colab": {
          "base_uri": "https://localhost:8080/"
        },
        "id": "bEehjUxxcOi-",
        "outputId": "771bff1c-00f8-4edc-ec60-421e1c8c542c"
      },
      "execution_count": 26,
      "outputs": [
        {
          "output_type": "stream",
          "name": "stdout",
          "text": [
            "Ali\n",
            "dict_keys(['name', 'grade', 'age'])\n",
            "dict_values(['Sara', 'A', 17])\n",
            "grade exists\n",
            "name : Sara\n",
            "grade : A\n",
            "age : 17\n"
          ]
        }
      ]
    },
    {
      "cell_type": "code",
      "source": [
        "#1- Check if 10 is in the list. If it is, print \"Found 10\", otherwise print \"10 not found\".\n",
        "numbers = [5, 10, 15]\n",
        "if 10 in numbers:\n",
        "    print(\"Found 10\")\n",
        "else:\n",
        "    print(\"10 not found\")\n",
        "\n",
        "\n",
        "#2- Write a condition: If any number is greater than 20, print \"Large number\", else print \"Small number\".\n",
        "nums = [8, 12, 25]\n",
        "if any(n > 20 for n in nums):\n",
        "    print(\"Large number\")\n",
        "else:\n",
        "    print(\"Small number\")\n"
      ],
      "metadata": {
        "colab": {
          "base_uri": "https://localhost:8080/"
        },
        "id": "Yanx3isXc_LK",
        "outputId": "43395bc3-90c1-4471-bab0-cc801a05d6b3"
      },
      "execution_count": 27,
      "outputs": [
        {
          "output_type": "stream",
          "name": "stdout",
          "text": [
            "Found 10\n",
            "Large number\n"
          ]
        }
      ]
    },
    {
      "cell_type": "code",
      "source": [
        "#1- Given a = 5, b = 10 Print the results of: a + b, a * b, b - a, and b / a.\n",
        "a = 5\n",
        "b = 10\n",
        "print(a + b)\n",
        "print(a * b)\n",
        "print(b - a)\n",
        "print(b / a)\n",
        "\n",
        "#2- Write an expression to calculate (a + b) * 2 and print the result.\n",
        "print((a + b) * 2)\n",
        "\n",
        "#3- Write a program that takes age as input from the user and checks:\n",
        "age = int(input(\"Enter your age: \"))\n",
        "#4- If age >= 18, print \"You are an adult\", Otherwise, print \"You are a minor\"\n",
        "age = int(input(\"Enter your age: \"))\n",
        "if age >= 18:\n",
        "    print(\"You are an adult\")\n",
        "else:\n",
        "    print(\"You are a minor\")"
      ],
      "metadata": {
        "colab": {
          "base_uri": "https://localhost:8080/"
        },
        "id": "QSg9J-P1dHmV",
        "outputId": "a9102fc7-9aac-4051-ed46-60fcfacfe269"
      },
      "execution_count": 29,
      "outputs": [
        {
          "output_type": "stream",
          "name": "stdout",
          "text": [
            "15\n",
            "50\n",
            "5\n",
            "2.0\n",
            "30\n",
            "Enter your age: 22\n",
            "Enter your age: 22\n",
            "You are an adult\n"
          ]
        }
      ]
    },
    {
      "cell_type": "code",
      "source": [
        "#1- Calculate the area of a rectangle with width = 5 and height = 10. (Formula: area = width * height)\n",
        "width = 5\n",
        "height = 10\n",
        "area = width * height\n",
        "print(area)\n",
        "\n",
        "#2- Write an expression that converts Celsius to Fahrenheit: F = (C * 9/5) + 32, where C = 25.\n",
        "C = 25\n",
        "F = (C * 9/5) + 32\n",
        "print(F)\n",
        "\n",
        "#3- Write a simple interest formula: SI = (P * R * T) / 100, where P=1000, R=5, T=2\n",
        "P = 1000\n",
        "R = 5\n",
        "T = 2\n",
        "SI = (P * R * T) / 100\n",
        "print(SI)"
      ],
      "metadata": {
        "colab": {
          "base_uri": "https://localhost:8080/"
        },
        "id": "0dySWouLdcG2",
        "outputId": "4967025f-e41a-4874-f457-2c16e6bcc1a7"
      },
      "execution_count": 30,
      "outputs": [
        {
          "output_type": "stream",
          "name": "stdout",
          "text": [
            "50\n",
            "77.0\n",
            "100.0\n"
          ]
        }
      ]
    },
    {
      "cell_type": "code",
      "source": [
        "#1- Use range() to print numbers from 0 to 4.\n",
        "for i in range(5):\n",
        "    print(i)\n",
        "\n",
        "\n",
        "#2- Use range(1, 6) to print numbers from 1 to 5.\n",
        "for i in range(1, 6):\n",
        "    print(i)\n",
        "\n",
        "\n",
        "#3- Use a for loop with range(5) to print \"Hello\" 5 times.\n",
        "for i in range(5):\n",
        "    print(\"Hello\")\n",
        "\n",
        "\n",
        "#4- Use range(2, 11, 2) to print even numbers from 2 to 10.\n",
        "for i in range(2, 11, 2):\n",
        "    print(i)\n",
        "\n",
        "\n",
        "#5- Use range(10, 0, -1) to print numbers from 10 to 1 in reverse order.\n",
        "for i in range(10, 0, -1):\n",
        "    print(i)\n",
        "\n",
        "\n",
        "#6- Store a range(3, 8) in a list and print that list.\n",
        "my_list = list(range(3, 8))\n",
        "print(my_list)\n",
        "\n",
        "#7- Use range() inside a loop to print squares of numbers from 1 to 5.\n",
        "for i in range(1, 6):\n",
        "    print(i**2)\n"
      ],
      "metadata": {
        "colab": {
          "base_uri": "https://localhost:8080/"
        },
        "id": "_h8xgMGzd1Bq",
        "outputId": "66d1e7a3-b37f-4cb8-fcd0-3b4bd61804d0"
      },
      "execution_count": 31,
      "outputs": [
        {
          "output_type": "stream",
          "name": "stdout",
          "text": [
            "0\n",
            "1\n",
            "2\n",
            "3\n",
            "4\n",
            "1\n",
            "2\n",
            "3\n",
            "4\n",
            "5\n",
            "Hello\n",
            "Hello\n",
            "Hello\n",
            "Hello\n",
            "Hello\n",
            "2\n",
            "4\n",
            "6\n",
            "8\n",
            "10\n",
            "10\n",
            "9\n",
            "8\n",
            "7\n",
            "6\n",
            "5\n",
            "4\n",
            "3\n",
            "2\n",
            "1\n",
            "[3, 4, 5, 6, 7]\n",
            "1\n",
            "4\n",
            "9\n",
            "16\n",
            "25\n"
          ]
        }
      ]
    },
    {
      "cell_type": "code",
      "source": [],
      "metadata": {
        "id": "lJMgsgXMeZPU"
      },
      "execution_count": null,
      "outputs": []
    }
  ]
}