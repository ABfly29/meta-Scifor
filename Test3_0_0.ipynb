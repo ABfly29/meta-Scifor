{
  "nbformat": 4,
  "nbformat_minor": 0,
  "metadata": {
    "colab": {
      "provenance": []
    },
    "kernelspec": {
      "name": "python3",
      "display_name": "Python 3"
    },
    "language_info": {
      "name": "python"
    }
  },
  "cells": [
    {
      "cell_type": "code",
      "execution_count": 2,
      "metadata": {
        "colab": {
          "base_uri": "https://localhost:8080/"
        },
        "id": "9SXU5TcpWwPd",
        "outputId": "07c56f5d-3a31-4f5c-d7cd-e65baca7d3b1"
      },
      "outputs": [
        {
          "output_type": "stream",
          "name": "stdout",
          "text": [
            "Enter a number: 56\n",
            "The number is even.\n"
          ]
        }
      ],
      "source": [
        "#Write a Python program to check whether a number is even or odd using if-else.\n",
        "\n",
        "num = int(input(\"Enter a number: \"))\n",
        "\n",
        "if num % 2 == 0:\n",
        "    print(\"The number is even.\")\n",
        "else:\n",
        "    print(\"The number is odd.\")\n"
      ]
    },
    {
      "cell_type": "code",
      "source": [
        "#Write a for loop that prints numbers from 10 to 1 in reverse\n",
        "\n",
        "\n",
        "for i in range(10, 0, -1):\n",
        "    print(i)"
      ],
      "metadata": {
        "colab": {
          "base_uri": "https://localhost:8080/"
        },
        "id": "CRzDdOejXXPm",
        "outputId": "c7e1e4f6-e3cc-47fc-e593-8c8bbb5b463a"
      },
      "execution_count": 3,
      "outputs": [
        {
          "output_type": "stream",
          "name": "stdout",
          "text": [
            "10\n",
            "9\n",
            "8\n",
            "7\n",
            "6\n",
            "5\n",
            "4\n",
            "3\n",
            "2\n",
            "1\n"
          ]
        }
      ]
    },
    {
      "cell_type": "code",
      "source": [
        "#Write a while loop that keeps asking the user to input a number until they enter 0.\n",
        "\n",
        "\n",
        "number = -1\n",
        "\n",
        "while number != 0:\n",
        "    number = int(input(\"Enter a number \"))"
      ],
      "metadata": {
        "colab": {
          "base_uri": "https://localhost:8080/"
        },
        "id": "VfdEFDTOXjGa",
        "outputId": "98dcea50-ea74-4c50-da0f-e75ebe2da103"
      },
      "execution_count": 5,
      "outputs": [
        {
          "name": "stdout",
          "output_type": "stream",
          "text": [
            "Enter a number 2\n",
            "Enter a number 3\n",
            "Enter a number 9\n",
            "Enter a number 0\n"
          ]
        }
      ]
    },
    {
      "cell_type": "code",
      "source": [
        "#Write a function that accepts two numbers and returns their sum.\n",
        "\n",
        "def add_numbers(a, b):\n",
        "    return a + b\n",
        "\n",
        "# Getting input from the user\n",
        "num1 = int(input(\"Enter the first number: \"))\n",
        "num2 = int(input(\"Enter the second number: \"))\n",
        "\n",
        "\n",
        "result = add_numbers(num1, num2)\n",
        "\n",
        "print(\"The sum is:\", result)\n"
      ],
      "metadata": {
        "colab": {
          "base_uri": "https://localhost:8080/"
        },
        "id": "5RmQtJsdXnpi",
        "outputId": "5904628a-d977-4fd1-d971-ce796724f775"
      },
      "execution_count": 7,
      "outputs": [
        {
          "output_type": "stream",
          "name": "stdout",
          "text": [
            "Enter the first number: 67\n",
            "Enter the second number: 09\n",
            "The sum is: 76\n"
          ]
        }
      ]
    },
    {
      "cell_type": "code",
      "source": [
        "#What will be the output of this code: print(list(map(lambda x: x*x, [1, 2, 3])))?\n",
        "\n",
        "print(list(map(lambda x: x*x, [1, 2, 3])))"
      ],
      "metadata": {
        "colab": {
          "base_uri": "https://localhost:8080/"
        },
        "id": "M7RbTv2LYRnD",
        "outputId": "29fc952b-b969-42de-a6dc-cdf6a857dcab"
      },
      "execution_count": 8,
      "outputs": [
        {
          "output_type": "stream",
          "name": "stdout",
          "text": [
            "[1, 4, 9]\n"
          ]
        }
      ]
    },
    {
      "cell_type": "code",
      "source": [
        "#Use the filter() function to extract only even numbers from a list.\n",
        "\n",
        "numbers = [1, 2, 3, 4, 5, 6]\n",
        "\n",
        "even_numbers = list(filter(lambda x: x % 2 == 0, numbers))\n",
        "\n",
        "print(\"Even numbers:\", even_numbers)"
      ],
      "metadata": {
        "colab": {
          "base_uri": "https://localhost:8080/"
        },
        "id": "u2-6UZcdYnw_",
        "outputId": "276bb02e-1b3d-496a-b5d8-ae42beac193e"
      },
      "execution_count": 9,
      "outputs": [
        {
          "output_type": "stream",
          "name": "stdout",
          "text": [
            "Even numbers: [2, 4, 6]\n"
          ]
        }
      ]
    },
    {
      "cell_type": "code",
      "source": [
        "#Explain the purpose of the else block in a try-except-else construct.\n",
        "\n",
        "try:\n",
        "    print(\"Try\")\n",
        "    result = 10 / 0  #\n",
        "except ZeroDivisionError:\n",
        "    print(\"Can't divide by zero.\")\n",
        "else:\n",
        "    print(\"The result is:\", result)"
      ],
      "metadata": {
        "colab": {
          "base_uri": "https://localhost:8080/"
        },
        "id": "LYw_CaOkZvs1",
        "outputId": "2488d85a-76fc-4bae-ecb3-23905d962d64"
      },
      "execution_count": 11,
      "outputs": [
        {
          "output_type": "stream",
          "name": "stdout",
          "text": [
            "Try\n",
            "Can't divide by zero.\n"
          ]
        }
      ]
    },
    {
      "cell_type": "code",
      "source": [
        "#Write a try-except block to handle division by zero.\n",
        "\n",
        "try:\n",
        "    number = int(input(\"Enter a number: \"))\n",
        "    result = 10 / number\n",
        "    print(\"Result is:\", result)\n",
        "except ZeroDivisionError:\n",
        "    print(\"You can't divide by zero!\")\n"
      ],
      "metadata": {
        "colab": {
          "base_uri": "https://localhost:8080/"
        },
        "id": "WOesqpAoZvpC",
        "outputId": "7ae5a593-d641-4895-ccf7-fb18011448b1"
      },
      "execution_count": 12,
      "outputs": [
        {
          "output_type": "stream",
          "name": "stdout",
          "text": [
            "Enter a number: 0\n",
            "You can't divide by zero!\n"
          ]
        }
      ]
    },
    {
      "cell_type": "code",
      "source": [
        "#What is the output of this lambda function? print((lambda x, y: x+y)(5, 3))\n",
        "\n",
        "print((lambda x, y: x + y)(5, 3))"
      ],
      "metadata": {
        "colab": {
          "base_uri": "https://localhost:8080/"
        },
        "id": "Q1BPnE4-Zvmm",
        "outputId": "8e56ad4a-3511-483b-ba18-f7a8b697a6ac"
      },
      "execution_count": 13,
      "outputs": [
        {
          "output_type": "stream",
          "name": "stdout",
          "text": [
            "8\n"
          ]
        }
      ]
    },
    {
      "cell_type": "code",
      "source": [
        "#Define a class named Dog with properties name and breed. Add a method bark().\n",
        "\n",
        "class Dog:\n",
        "    def __init__(self, name, breed):\n",
        "        self.name = name\n",
        "        self.breed = breed\n",
        "\n",
        "    def bark(self):\n",
        "        print(self.name + \"Wooof\")"
      ],
      "metadata": {
        "id": "91JJPsSrZvjl"
      },
      "execution_count": 14,
      "outputs": []
    },
    {
      "cell_type": "code",
      "source": [
        "#Create two objects of the Dog class and call their methods.\n",
        "\n",
        "dog1 = Dog(\"  Theo  \", \"  Golden Retriever  \")\n",
        "dog2 = Dog(\"  Goofy  \", \"  Labrador  \")\n",
        "\n",
        "dog1.bark()\n",
        "dog2.bark()"
      ],
      "metadata": {
        "colab": {
          "base_uri": "https://localhost:8080/"
        },
        "id": "DEmeMJ0GZvfk",
        "outputId": "0677b1d8-edce-4640-882b-bf4e67daf010"
      },
      "execution_count": 16,
      "outputs": [
        {
          "output_type": "stream",
          "name": "stdout",
          "text": [
            "  Theo  Wooof\n",
            "  Goofy  Wooof\n"
          ]
        }
      ]
    },
    {
      "cell_type": "code",
      "source": [
        "#What is the difference between class variables and instance variables?\n",
        "\n",
        "class Example:\n",
        "    class_var = \"Class Variable I am\"\n",
        "\n",
        "    def __init__(self, value):\n",
        "        self.instance_var = value  # instance variable"
      ],
      "metadata": {
        "id": "YNT17YZAZvbp"
      },
      "execution_count": 17,
      "outputs": []
    },
    {
      "cell_type": "code",
      "source": [
        "#What will this print: print(\"apple\" if 5 > 3 else \"banana\")?\n",
        "\n",
        "print(\"apple\" if 5 > 3 else \"banana\")"
      ],
      "metadata": {
        "colab": {
          "base_uri": "https://localhost:8080/"
        },
        "id": "wHYgGef4ZvZB",
        "outputId": "3a51b407-48f2-45f1-b619-13751c6c1a3d"
      },
      "execution_count": 18,
      "outputs": [
        {
          "output_type": "stream",
          "name": "stdout",
          "text": [
            "apple\n"
          ]
        }
      ]
    },
    {
      "cell_type": "code",
      "source": [
        "#Write a function that accepts a list and returns the list of squares using list comprehension.\n",
        "\n",
        "def squared(numbers):\n",
        "    return [x * x for x in numbers]\n",
        "\n",
        "print(squared([1, 2, 3, 4]))"
      ],
      "metadata": {
        "colab": {
          "base_uri": "https://localhost:8080/"
        },
        "id": "j_ZQyJ0UbC3h",
        "outputId": "0f2a23ec-969e-41b9-ab88-cd00aab18fa3"
      },
      "execution_count": 20,
      "outputs": [
        {
          "output_type": "stream",
          "name": "stdout",
          "text": [
            "[1, 4, 9, 16]\n"
          ]
        }
      ]
    },
    {
      "cell_type": "code",
      "source": [
        "#Explain what map() and filter() return when executed.\n",
        "\n",
        "numbers = [1, 2, 3, 4, 5, 6]\n",
        "\n",
        "squared = list(map(lambda x: x * x, numbers))\n",
        "even_list = list(filter(lambda x: x % 2 == 0, numbers))\n",
        "\n",
        "print(\"Squares:\", squared)\n",
        "print(\"Even numbers:\", even_list)"
      ],
      "metadata": {
        "colab": {
          "base_uri": "https://localhost:8080/"
        },
        "id": "mTSuwPdnbIou",
        "outputId": "484c5853-b299-4214-9d8e-bdd8b9c89f35"
      },
      "execution_count": 22,
      "outputs": [
        {
          "output_type": "stream",
          "name": "stdout",
          "text": [
            "Squares: [1, 4, 9, 16, 25, 36]\n",
            "Even numbers: [2, 4, 6]\n"
          ]
        }
      ]
    },
    {
      "cell_type": "markdown",
      "source": [
        "**NUMPY**\n",
        "\n",
        "---\n",
        "\n"
      ],
      "metadata": {
        "id": "ADZayRKfdxri"
      }
    },
    {
      "cell_type": "code",
      "source": [
        "#Create a 3x3 matrix using np.random.randint(0, 10, (3, 3)).\n",
        "\n",
        "import numpy as np\n",
        "\n",
        "matrix1 = np.random.randint(0, 10, (3, 3))\n",
        "print(\"\\n\", matrix1)"
      ],
      "metadata": {
        "colab": {
          "base_uri": "https://localhost:8080/"
        },
        "id": "htpfZeFgbW-o",
        "outputId": "997132e1-105d-4f44-e606-94b7b8b32a6a"
      },
      "execution_count": 24,
      "outputs": [
        {
          "output_type": "stream",
          "name": "stdout",
          "text": [
            "\n",
            " [[0 6 7]\n",
            " [4 9 9]\n",
            " [7 1 8]]\n"
          ]
        }
      ]
    },
    {
      "cell_type": "code",
      "source": [
        "\n",
        "#Slice the above matrix to extract the first two rows.\n",
        "\n",
        "first_two_rows = matrix1[:2, :]\n",
        "print(\"First two rows:\\n\", first_two_rows)"
      ],
      "metadata": {
        "colab": {
          "base_uri": "https://localhost:8080/"
        },
        "id": "x4zU4rW2cA6X",
        "outputId": "bdb020fb-91fd-4892-d09e-eb1beacb10d0"
      },
      "execution_count": 25,
      "outputs": [
        {
          "output_type": "stream",
          "name": "stdout",
          "text": [
            "First two rows:\n",
            " [[0 6 7]\n",
            " [4 9 9]]\n"
          ]
        }
      ]
    },
    {
      "cell_type": "code",
      "source": [
        "#Combine two 3x3 matrices using np.concatenate along axis 0 and axis 1.\n",
        "\n",
        "matrix2 = np.random.randint(0, 10, (3, 3))\n",
        "print(\"Matrix 2:\\n\", matrix2)\n",
        "\n",
        "\n",
        "axis0 = np.concatenate((matrix1, matrix2), axis=0)\n",
        "print(\" axis 0:\\n\",axis0)\n",
        "\n",
        "axis1 = np.concatenate((matrix1, matrix2), axis=1)\n",
        "print(\"axis 1:\\n\",axis1)"
      ],
      "metadata": {
        "colab": {
          "base_uri": "https://localhost:8080/"
        },
        "id": "zca4fTANcHL9",
        "outputId": "9da21af3-4008-4d9c-a34b-0350e9392a14"
      },
      "execution_count": 26,
      "outputs": [
        {
          "output_type": "stream",
          "name": "stdout",
          "text": [
            "Matrix 2:\n",
            " [[9 0 6]\n",
            " [8 5 5]\n",
            " [3 2 4]]\n",
            " axis 0:\n",
            " [[0 6 7]\n",
            " [4 9 9]\n",
            " [7 1 8]\n",
            " [9 0 6]\n",
            " [8 5 5]\n",
            " [3 2 4]]\n",
            "axis 1:\n",
            " [[0 6 7 9 0 6]\n",
            " [4 9 9 8 5 5]\n",
            " [7 1 8 3 2 4]]\n"
          ]
        }
      ]
    },
    {
      "cell_type": "code",
      "source": [
        "#Perform element-wise addition, subtraction, and multiplication of two matrices.\n",
        "\n",
        "matrix = np.random.randint(0, 10, (3, 3))\n",
        "add = matrix1 + matrix2\n",
        "sub = matrix1 - matrix2\n",
        "multiply = matrix1 * matrix2\n",
        "\n",
        "print(\"Addition:\\n\", add)\n",
        "print(\"Subtraction:\\n\", sub)\n",
        "print(\"Multiplication:\\n\", multiply)"
      ],
      "metadata": {
        "colab": {
          "base_uri": "https://localhost:8080/"
        },
        "id": "kVRjrXCScVea",
        "outputId": "7975d9a8-4c8a-4476-b608-e5e84cb270dd"
      },
      "execution_count": 28,
      "outputs": [
        {
          "output_type": "stream",
          "name": "stdout",
          "text": [
            "Addition:\n",
            " [[ 9  6 13]\n",
            " [12 14 14]\n",
            " [10  3 12]]\n",
            "Subtraction:\n",
            " [[-9  6  1]\n",
            " [-4  4  4]\n",
            " [ 4 -1  4]]\n",
            "Multiplication:\n",
            " [[ 0  0 42]\n",
            " [32 45 45]\n",
            " [21  2 32]]\n"
          ]
        }
      ]
    },
    {
      "cell_type": "code",
      "source": [
        "#Demonstrate broadcasting by adding a 1D array to a 2D array.\n",
        "\n",
        "array_1d = np.array([1, 2, 3])\n",
        "broadcasted_add = matrix1 + array_1d\n",
        "print(\"Broadcasted addition:\\n\", broadcasted_add)"
      ],
      "metadata": {
        "colab": {
          "base_uri": "https://localhost:8080/"
        },
        "id": "sunrJWLNceUN",
        "outputId": "70e50b6a-4dde-4c6d-81a5-b31be04823e4"
      },
      "execution_count": 29,
      "outputs": [
        {
          "output_type": "stream",
          "name": "stdout",
          "text": [
            "Broadcasted addition:\n",
            " [[ 1  8 10]\n",
            " [ 5 11 12]\n",
            " [ 8  3 11]]\n"
          ]
        }
      ]
    },
    {
      "cell_type": "code",
      "source": [
        "#Use np.clip to limit values in a matrix to a minimum of 2 and maximum of 8.\n",
        "\n",
        "arr= np.clip(matrix1, 2, 8)\n",
        "print(\"\\n\",arr)"
      ],
      "metadata": {
        "colab": {
          "base_uri": "https://localhost:8080/"
        },
        "id": "qMbvi0AScqzt",
        "outputId": "2874f58e-9a0a-490f-9a5f-5477d7c17115"
      },
      "execution_count": 30,
      "outputs": [
        {
          "output_type": "stream",
          "name": "stdout",
          "text": [
            "\n",
            " [[2 6 7]\n",
            " [4 8 8]\n",
            " [7 2 8]]\n"
          ]
        }
      ]
    },
    {
      "cell_type": "code",
      "source": [
        "#Use np.ceil on an array of floating-point numbers [1.2, 2.5, 3.8].\n",
        "\n",
        "floats = np.array([1.2, 2.5, 3.8])\n",
        "ceiled = np.ceil(floats)\n",
        "print(\"\\n\", ceiled)"
      ],
      "metadata": {
        "colab": {
          "base_uri": "https://localhost:8080/"
        },
        "id": "cJtDi51CcyMF",
        "outputId": "d0a76304-3cf8-44f0-b158-beffcae4bc41"
      },
      "execution_count": 31,
      "outputs": [
        {
          "output_type": "stream",
          "name": "stdout",
          "text": [
            "\n",
            " [2. 3. 4.]\n"
          ]
        }
      ]
    },
    {
      "cell_type": "code",
      "source": [
        "#Use np.where to replace all elements greater than 5 with 100 in a given array.\n",
        "\n",
        "modified = np.where(matrix1 > 5, 100, matrix1)\n",
        "print(\"\\n\", modified)"
      ],
      "metadata": {
        "colab": {
          "base_uri": "https://localhost:8080/"
        },
        "id": "LFwJ3HYec3BN",
        "outputId": "38a3070d-b480-4c0f-bb21-ed70939261cf"
      },
      "execution_count": 32,
      "outputs": [
        {
          "output_type": "stream",
          "name": "stdout",
          "text": [
            "\n",
            " [[  0 100 100]\n",
            " [  4 100 100]\n",
            " [100   1 100]]\n"
          ]
        }
      ]
    },
    {
      "cell_type": "code",
      "source": [
        "#Create two 2x2 matrices and compute their dot product.\n",
        "\n",
        "a = np.array([[1, 2], [3, 4]])\n",
        "b = np.array([[5, 6], [7, 8]])\n",
        "\n",
        "dot_product = np.dot(a, b)\n",
        "print(\"Dot product:\\n\", dot_product)"
      ],
      "metadata": {
        "colab": {
          "base_uri": "https://localhost:8080/"
        },
        "id": "Fi-nUO1Jc6P1",
        "outputId": "d5c13db3-deb8-4b0b-bcc4-6ce5af543074"
      },
      "execution_count": 33,
      "outputs": [
        {
          "output_type": "stream",
          "name": "stdout",
          "text": [
            "Dot product:\n",
            " [[19 22]\n",
            " [43 50]]\n"
          ]
        }
      ]
    },
    {
      "cell_type": "code",
      "source": [
        "#What is the difference between np.array([1, 2, 3]) and np.array([[1, 2, 3]])?\n",
        "\n",
        "arr1 = np.array([1, 2, 3])\n",
        "arr2 = np.array([[1, 2, 3]])\n",
        "\n",
        "print(\"Shape of arr1:\", arr1.shape)\n",
        "print(\"Shape of arr2:\", arr2.shape)"
      ],
      "metadata": {
        "colab": {
          "base_uri": "https://localhost:8080/"
        },
        "id": "c7srkNJ6c82V",
        "outputId": "d7ce3918-a3e5-464c-c6a3-b8ff946cdd31"
      },
      "execution_count": 34,
      "outputs": [
        {
          "output_type": "stream",
          "name": "stdout",
          "text": [
            "Shape of arr1: (3,)\n",
            "Shape of arr2: (1, 3)\n"
          ]
        }
      ]
    },
    {
      "cell_type": "code",
      "source": [],
      "metadata": {
        "id": "_kzbmZRSdBWP"
      },
      "execution_count": null,
      "outputs": []
    }
  ]
}