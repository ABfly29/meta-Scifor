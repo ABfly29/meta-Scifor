{
  "nbformat": 4,
  "nbformat_minor": 0,
  "metadata": {
    "colab": {
      "provenance": []
    },
    "kernelspec": {
      "name": "python3",
      "display_name": "Python 3"
    },
    "language_info": {
      "name": "python"
    }
  },
  "cells": [
    {
      "cell_type": "markdown",
      "source": [
        "Problem – Defective Items in a Factory\n",
        "A factory has recorded the number of defective items produced per day over 1000 production days. The number of defective items per day is randomly generated between 0 and 20 to simulate real-world variability in quality.\n",
        "\n",
        "Using this dataset, calculate the probability that exactly 5 defective items will be produced on a new day. Use Python to:\n",
        "\n",
        "Generate the data\n",
        "\n",
        "Calculate the mean and standard deviation\n",
        "\n",
        "Compute the probability using the normal distribution (with continuity correction)\n",
        "\n",
        "\n",
        "\n",
        "\n",
        "Generate random data for 1000 days (defective items between 0 and 20)\n",
        "defects = ri(0, 21, 1000)\n",
        "defects = pd.Series(defects)"
      ],
      "metadata": {
        "id": "FGuFZyA-dEE-"
      }
    },
    {
      "cell_type": "code",
      "source": [
        "from numpy.random import randint as ri\n",
        "import pandas as pd\n",
        "from scipy.stats import norm\n",
        "\n",
        "# Generate random data for 1000 days (defective items between 0 and 20)\n",
        "defects = ri(0, 21, 1000)\n",
        "defects = pd.Series(defects)\n",
        "\n",
        "mean = defects.mean()\n",
        "std_dev = defects.std()\n",
        "\n",
        "print(f\"Mean: {mean:}\")\n",
        "print(f\"Standard Deviation: {std_dev:}\")\n",
        "\n",
        "lower_bound = 4.5\n",
        "upper_bound = 5.5\n",
        "\n",
        "\n",
        "probability_normal = upper_bound - lower_bound\n",
        "\n",
        "print(f\"Probability using Normal Distribution: {probability_normal}\")\n",
        "\n",
        "\n",
        "\n",
        "actual_count = (defects == 5).sum()\n",
        "actual_probability = actual_count / len(defects)\n",
        "\n",
        "print(f\"Probability using Actual Data: {actual_probability}\")\n",
        "\n"
      ],
      "metadata": {
        "colab": {
          "base_uri": "https://localhost:8080/"
        },
        "id": "fwo2fjMDdGeA",
        "outputId": "01f7faff-ad9f-4b3e-a1c3-c654aa74cb22"
      },
      "execution_count": 8,
      "outputs": [
        {
          "output_type": "stream",
          "name": "stdout",
          "text": [
            "Mean: 9.869\n",
            "Standard Deviation: 6.101234634405081\n",
            "Probability using Normal Distribution: 1.0\n",
            "Probability using Actual Data: 0.038\n"
          ]
        }
      ]
    },
    {
      "cell_type": "markdown",
      "source": [
        "🚚 Problem – Testing the Claim About Delivery Time\n",
        "A food delivery company claims that its average delivery time is 30 minutes. Based on historical data, the population standard deviation is known to be 4 minutes.\n",
        "\n",
        "To evaluate this claim, a consumer rights group decides to test the null hypothesis that the average delivery time is at most 30 minutes. They observe a sample of 40 deliveries, and the average delivery time for the sample comes out to be 31.2 minutes.\n",
        "\n",
        "Objective:\n",
        "Test the null hypothesis using the z-test.\n",
        "\n",
        "Null Hypothesis (H₀): μ ≤ 30\n",
        "\n",
        "Alternative Hypothesis (H₁): μ > 30\n",
        "\n",
        "python\n",
        "Copy\n",
        "Edit\n",
        "import numpy as np\n",
        "\n",
        "# Known values\n",
        "population_mean = 30        # Claimed average delivery time\n",
        "sample_mean = 31.2          # Observed sample mean\n",
        "std_dev = 4                 # Known population standard deviation\n",
        "n = 40  "
      ],
      "metadata": {
        "id": "pkT4z_2tfjbc"
      }
    },
    {
      "cell_type": "code",
      "source": [
        "import numpy as np\n",
        "from scipy.stats import norm\n",
        "\n",
        "# Given values\n",
        "population_mean = 30        # Claimed mean\n",
        "sample_mean = 31.2          # Sample mean from 40 deliveries\n",
        "std_dev = 4                 # Known population standard deviation\n",
        "n = 40                     # Sample size\n",
        "\n",
        "\n",
        "\n",
        "std_error = std_dev / np.sqrt(n)\n",
        "\n",
        "\n",
        "z_score = (sample_mean - population_mean) / std_error\n",
        "\n",
        "\n",
        "p_value = 1 - norm.cdf(z_score)\n",
        "\n",
        "\n",
        "print(f\"Z-score: {z_score:.2f}\")\n",
        "print(f\"P-value: {p_value:.4f}\")"
      ],
      "metadata": {
        "colab": {
          "base_uri": "https://localhost:8080/"
        },
        "id": "su1jHoxiefZt",
        "outputId": "6936f7ca-38a0-48e9-c297-f6838c444ed2"
      },
      "execution_count": 9,
      "outputs": [
        {
          "output_type": "stream",
          "name": "stdout",
          "text": [
            "Z-score: 1.90\n",
            "P-value: 0.0289\n"
          ]
        }
      ]
    },
    {
      "cell_type": "markdown",
      "source": [
        "Problem – Fitness Program Impact Analysis\n",
        "A health company evaluates its 6-week fitness program using performance data (scores out of 100) before and after the program for 150 participants, also including Gender (0 = Female, 1 = Male).\n",
        "\n",
        "Your Task:\n",
        "Perform the following tests:\n",
        "\n",
        "One-Sample t-Test – Is the average initial score ≥ 65?\n",
        "\n",
        "Two-Sample t-Test – Compare initial scores of males vs females\n",
        "\n",
        "Paired t-Test – Are final scores significantly higher?\n",
        "\n",
        "Dataset Generation:\n",
        "python\n",
        "Copy\n",
        "Edit\n",
        "import numpy as np\n",
        "import pandas as pd\n",
        "\n",
        "np.random.seed(100)\n",
        "n = 150\n",
        "\n",
        "gender = np.random.choice([0, 1], size=n)\n",
        "initial_scores = np.random.normal(loc=64, scale=6, size=n)\n",
        "final_scores = initial_scores + np.random.normal(loc=5, scale=3, size=n)\n",
        "\n",
        "df = pd.DataFrame({\n",
        "    'Gender': gender,\n",
        "    'Initial_Score': initial_scores,\n",
        "    'Final_Score': final_scores\n",
        "})\n",
        "df.head()\n",
        "\n",
        "from scipy.stats import ttest_1samp, ttest_ind, ttest_rel\n"
      ],
      "metadata": {
        "id": "AVxiUZLtgm7T"
      }
    },
    {
      "cell_type": "code",
      "source": [
        "import numpy as np\n",
        "import pandas as pd\n",
        "from scipy.stats import ttest_1samp, ttest_ind, ttest_rel\n",
        "\n",
        "# Step 1: Generate dataset\n",
        "np.random.seed(100)\n",
        "n = 150\n",
        "\n",
        "gender = np.random.choice([0, 1], size=n)  # 0 = Female, 1 = Male\n",
        "initial_scores = np.random.normal(loc=64, scale=6, size=n)  # Before program\n",
        "final_scores = initial_scores + np.random.normal(loc=5, scale=3, size=n)  # After program\n",
        "\n",
        "df = pd.DataFrame({\n",
        "    'Gender': gender,\n",
        "    'Initial_Score': initial_scores,\n",
        "    'Final_Score': final_scores\n",
        "})\n",
        "\n",
        "print(\"Sample data:\")\n",
        "print(df.head())\n",
        "\n",
        "print(\"\\n\\n\")\n",
        "\n",
        "t_stat, p_value = ttest_1samp(df['Initial_Score'], 65)\n",
        "\n",
        "print(f\"T-statistic: {t_stat:.3f}\")\n",
        "print(f\"P-value (two-tailed): {p_value:.3f}\")\n",
        "\n",
        "print(\"\\n \\n\")\n",
        "\n",
        "male_scores = df[df['Gender'] == 1]['Initial_Score']\n",
        "female_scores = df[df['Gender'] == 0]['Initial_Score']\n",
        "\n",
        "t_stat2, p_value2 = ttest_ind(male_scores, female_scores, equal_var=False)  # Welch's t-test\n",
        "\n",
        "print(f\"T-statistic: {t_stat2:.3f}\")\n",
        "print(f\"P-value: {p_value2:.3f}\")\n",
        "\n",
        "\n",
        "print(\"\\n\\n\")\n",
        "\n",
        "\n",
        "t_stat3, p_value3 = ttest_rel(df['Final_Score'], df['Initial_Score'])\n",
        "\n",
        "print(f\"T-statistic: {t_stat3:.3f}\")\n",
        "print(f\"P-value (two-tailed): {p_value3:.3f}\")\n"
      ],
      "metadata": {
        "colab": {
          "base_uri": "https://localhost:8080/"
        },
        "id": "0UWjwG7GgGMY",
        "outputId": "7638c824-cf1d-4a40-a1e8-836bde831460"
      },
      "execution_count": 17,
      "outputs": [
        {
          "output_type": "stream",
          "name": "stdout",
          "text": [
            "Sample data:\n",
            "   Gender  Initial_Score  Final_Score\n",
            "0       0      73.167718    76.049901\n",
            "1       0      67.883235    75.156484\n",
            "2       1      59.935980    65.727168\n",
            "3       1      62.409887    68.352951\n",
            "4       1      68.476639    70.330144\n",
            "\n",
            "\n",
            "\n",
            "T-statistic: -2.299\n",
            "P-value (two-tailed): 0.023\n",
            "\n",
            " \n",
            "\n",
            "T-statistic: -0.449\n",
            "P-value: 0.654\n",
            "\n",
            "\n",
            "\n",
            "T-statistic: 19.001\n",
            "P-value (two-tailed): 0.000\n"
          ]
        }
      ]
    },
    {
      "cell_type": "markdown",
      "source": [
        "Problem – ANOVA: Customer Satisfaction Across Store Branches\n",
        "A retail company wants to check if satisfaction scores differ among Branch A, Branch B, and Branch C.\n",
        "\n",
        "Hypotheses:\n",
        "H₀: Mean satisfaction scores are equal across all branches\n",
        "\n",
        "H₁: At least one branch has a different mean\n",
        "\n",
        "Dataset Generation:\n",
        "python\n",
        "Copy\n",
        "Edit\n",
        "import numpy as np\n",
        "import pandas as pd\n",
        "\n",
        "np.random.seed(42)\n",
        "n = 70\n",
        "\n",
        "branch_a = np.random.normal(loc=420, scale=30, size=n)\n",
        "branch_b = np.random.normal(loc=400, scale=35, size=n)\n",
        "branch_c = np.random.normal(loc=430, scale=25, size=n)\n",
        "\n",
        "data = pd.DataFrame({\n",
        "    'Customer_ID': range(1, n*3 + 1),\n",
        "    'Branch': ['A']*n + ['B']*n + ['C']*n,\n",
        "    'Satisfaction_Score': np.concatenate([branch_a, branch_b, branch_c])\n",
        "})\n",
        "data.head()"
      ],
      "metadata": {
        "id": "Cop124FWlJgF"
      }
    },
    {
      "cell_type": "code",
      "source": [
        "import numpy as np\n",
        "import pandas as pd\n",
        "from scipy.stats import f_oneway\n",
        "\n",
        "# Generate dataset\n",
        "np.random.seed(42)\n",
        "n = 70\n",
        "\n",
        "branch_a = np.random.normal(loc=420, scale=30, size=n)\n",
        "branch_b = np.random.normal(loc=400, scale=35, size=n)\n",
        "branch_c = np.random.normal(loc=430, scale=25, size=n)\n",
        "\n",
        "data = pd.DataFrame({\n",
        "    'Customer_ID': range(1, n*3 + 1),\n",
        "    'Branch': ['A']*n + ['B']*n + ['C']*n,\n",
        "    'Satisfaction_Score': np.concatenate([branch_a, branch_b, branch_c])\n",
        "})\n",
        "\n",
        "print(data.head())"
      ],
      "metadata": {
        "colab": {
          "base_uri": "https://localhost:8080/"
        },
        "id": "SCZT5RTIguz1",
        "outputId": "6b81c610-2984-482a-9b14-30841c6499f6"
      },
      "execution_count": 18,
      "outputs": [
        {
          "output_type": "stream",
          "name": "stdout",
          "text": [
            "   Customer_ID Branch  Satisfaction_Score\n",
            "0            1      A          434.901425\n",
            "1            2      A          415.852071\n",
            "2            3      A          439.430656\n",
            "3            4      A          465.690896\n",
            "4            5      A          412.975399\n"
          ]
        }
      ]
    },
    {
      "cell_type": "code",
      "source": [
        "scores_a = data[data['Branch'] == 'A']['Satisfaction_Score']\n",
        "scores_b = data[data['Branch'] == 'B']['Satisfaction_Score']\n",
        "scores_c = data[data['Branch'] == 'C']['Satisfaction_Score']\n",
        "\n",
        "# Perform one-way ANOVA\n",
        "f_stat, p_value = f_oneway(scores_a, scores_b, scores_c)\n",
        "\n",
        "print(\"\\nANOVA test results:\")\n",
        "print(f\"F-statistic: {f_stat:.3f}\")\n",
        "print(f\"P-value: {p_value:.4f}\")"
      ],
      "metadata": {
        "colab": {
          "base_uri": "https://localhost:8080/"
        },
        "id": "0wS4NVj-lThM",
        "outputId": "989dcb95-e4f1-4e98-c88e-5d255a024128"
      },
      "execution_count": 19,
      "outputs": [
        {
          "output_type": "stream",
          "name": "stdout",
          "text": [
            "\n",
            "ANOVA test results:\n",
            "F-statistic: 24.800\n",
            "P-value: 0.0000\n"
          ]
        }
      ]
    },
    {
      "cell_type": "markdown",
      "source": [
        "Problem – Chi-Square Goodness of Fit: Passenger Forecast Accuracy\n",
        "Forecasted vs. Actual passenger counts (in 000s):\n",
        "\n",
        "Forecasted: [95, 110, 100, 130, 160, 210, 230]\n",
        "\n",
        "Observed: [90, 105, 98, 135, 165, 205, 225]\n",
        "\n",
        "Hypotheses:\n",
        "H₀: No difference between forecast and observed\n",
        "\n",
        "H₁: There is a difference\n",
        "\n",
        "Python Code:\n",
        "python\n",
        "Copy\n",
        "Edit\n",
        "import numpy as np\n",
        "from scipy.stats import chi2\n",
        "\n",
        "expected = np.array([95, 110, 100, 130, 160, 210, 230])\n",
        "observed = np.array([90, 105, 98, 135, 165, 205, 225])"
      ],
      "metadata": {
        "id": "4FEFbvf6limY"
      }
    },
    {
      "cell_type": "code",
      "source": [
        "import numpy as np\n",
        "from scipy.stats import chisquare\n",
        "\n",
        "# Given data\n",
        "expected = np.array([95, 110, 100, 130, 160, 210, 230])\n",
        "observed = np.array([90, 105, 98, 135, 165, 205, 225])\n",
        "\n",
        "# Scale the observed frequencies to match the sum of expected frequencies\n",
        "observed_scaled = observed * (expected.sum() / observed.sum())\n",
        "\n",
        "chi_stat, p_value = chisquare(f_obs=observed_scaled, f_exp=expected)\n",
        "\n",
        "print(f\"Chi-square statistic: {chi_stat:.3f}\")\n",
        "print(f\"P-value: {p_value:.4f}\")"
      ],
      "metadata": {
        "colab": {
          "base_uri": "https://localhost:8080/"
        },
        "id": "Ae5-wlaClZgZ",
        "outputId": "8c18761e-c171-483d-9fe4-7e21986c908a"
      },
      "execution_count": 23,
      "outputs": [
        {
          "output_type": "stream",
          "name": "stdout",
          "text": [
            "Chi-square statistic: 0.990\n",
            "P-value: 0.9860\n"
          ]
        }
      ]
    },
    {
      "cell_type": "markdown",
      "source": [
        "Problem – Manual Covariance: Study Hours vs. Exam Scores\n",
        "Student\tHours_Studied\tExam_Score\n",
        "A\t2\t65\n",
        "B\t4\t70\n",
        "C\t6\t75\n",
        "D\t8\t85\n",
        "E\t10\t95\n",
        "\n",
        "\n",
        "\n",
        "hours = [2, 4, 6, 8, 10]\n",
        "scores = [65, 70, 75, 85, 95]"
      ],
      "metadata": {
        "id": "JVdABt48mQni"
      }
    },
    {
      "cell_type": "code",
      "source": [
        "# Given data\n",
        "hours = [2, 4, 6, 8, 10]\n",
        "scores = [65, 70, 75, 85, 95]\n"
      ],
      "metadata": {
        "id": "5npA-ms0lsNu"
      },
      "execution_count": 24,
      "outputs": []
    },
    {
      "cell_type": "code",
      "source": [
        "mean_hours = sum(hours) / len(hours)\n",
        "mean_scores = sum(scores) / len(scores)"
      ],
      "metadata": {
        "id": "lGf_-Q5amV1u"
      },
      "execution_count": 25,
      "outputs": []
    },
    {
      "cell_type": "code",
      "source": [
        "cov_sum = 0\n",
        "for i in range(len(hours)):\n",
        "    cov_sum += (hours[i] - mean_hours) * (scores[i] - mean_scores)"
      ],
      "metadata": {
        "id": "_-KyW5PLmX9F"
      },
      "execution_count": 26,
      "outputs": []
    },
    {
      "cell_type": "code",
      "source": [
        "covariance = cov_sum / (len(hours) - 1)\n",
        "\n",
        "print(f\"Mean of Hours Studied: {mean_hours}\")\n",
        "print(f\"Mean of Exam Scores: {mean_scores}\")\n",
        "print(f\"Covariance: {covariance}\")"
      ],
      "metadata": {
        "colab": {
          "base_uri": "https://localhost:8080/"
        },
        "id": "LC0LgLPamZ18",
        "outputId": "817a9978-53a1-430d-f023-a90eec098422"
      },
      "execution_count": 27,
      "outputs": [
        {
          "output_type": "stream",
          "name": "stdout",
          "text": [
            "Mean of Hours Studied: 6.0\n",
            "Mean of Exam Scores: 78.0\n",
            "Covariance: 37.5\n"
          ]
        }
      ]
    },
    {
      "cell_type": "code",
      "source": [
        "# Given data\n",
        "exercise = [1, 3, 5, 7, 9]\n",
        "stress = [85, 75, 60, 55, 40]\n",
        "\n",
        "# Step 1: Calculate the means\n",
        "mean_ex = sum(exercise) / len(exercise)\n",
        "mean_st = sum(stress) / len(stress)\n",
        "\n",
        "# Step 2: Calculate covariance and standard deviations\n",
        "cov_sum = 0\n",
        "std_ex_sum = 0\n",
        "std_st_sum = 0\n",
        "\n",
        "for i in range(len(exercise)):\n",
        "    x_diff = exercise[i] - mean_ex\n",
        "    y_diff = stress[i] - mean_st\n",
        "    cov_sum += x_diff * y_diff\n",
        "    std_ex_sum += x_diff ** 2\n",
        "    std_st_sum += y_diff ** 2\n",
        "\n",
        "# Step 3: Final calculations\n",
        "covariance = cov_sum / (len(exercise) - 1)\n",
        "std_ex = (std_ex_sum / (len(exercise) - 1)) ** 0.5\n",
        "std_st = (std_st_sum / (len(exercise) - 1)) ** 0.5\n",
        "correlation = covariance / (std_ex * std_st)\n",
        "\n",
        "# Output results\n",
        "print(f\"Mean Exercise Hours: {mean_ex}\")\n",
        "print(f\"Mean Stress Level: {mean_st}\")\n",
        "print(f\"Covariance: {covariance}\")\n",
        "print(f\"Std Dev of Exercise: {std_ex}\")\n",
        "print(f\"Std Dev of Stress: {std_st}\")\n",
        "print(f\"Correlation Coefficient (r): {correlation}\")\n"
      ],
      "metadata": {
        "colab": {
          "base_uri": "https://localhost:8080/"
        },
        "id": "FuYUvzHHmdPk",
        "outputId": "8e76ff76-6c40-4d4d-d46b-3b5c9396756c"
      },
      "execution_count": 28,
      "outputs": [
        {
          "output_type": "stream",
          "name": "stdout",
          "text": [
            "Mean Exercise Hours: 5.0\n",
            "Mean Stress Level: 63.0\n",
            "Covariance: -55.0\n",
            "Std Dev of Exercise: 3.1622776601683795\n",
            "Std Dev of Stress: 17.53567791675018\n",
            "Correlation Coefficient (r): -0.9918365981341756\n"
          ]
        }
      ]
    },
    {
      "cell_type": "code",
      "source": [],
      "metadata": {
        "id": "eWyDqeRYmpim"
      },
      "execution_count": null,
      "outputs": []
    }
  ]
}