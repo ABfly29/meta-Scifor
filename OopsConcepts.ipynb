{
  "nbformat": 4,
  "nbformat_minor": 0,
  "metadata": {
    "colab": {
      "provenance": []
    },
    "kernelspec": {
      "name": "python3",
      "display_name": "Python 3"
    },
    "language_info": {
      "name": "python"
    }
  },
  "cells": [
    {
      "cell_type": "code",
      "execution_count": 4,
      "metadata": {
        "id": "vhFsdxuE8YF8"
      },
      "outputs": [],
      "source": [
        "# Tyres Class\n",
        "class Tyres:\n",
        "    def __init__(self, brand, belted_bias, optimal_pressure):\n",
        "        self.brand = brand\n",
        "        self.belted_bias = belted_bias\n",
        "        self.optimal_pressure = optimal_pressure\n",
        "\n",
        "    def __str__(self):\n",
        "        return (\"Tyres Information:\\n\"\n",
        "                f\"\\tBrand: {self.brand}\\n\"\n",
        "                f\"\\tBelted Bias: {self.belted_bias}\\n\"\n",
        "                f\"\\tOptimal Pressure: {self.optimal_pressure} psi\")\n",
        "\n",
        "\n",
        "class Engine:\n",
        "    def __init__(self, fuel_type, noise_level):\n",
        "        self.fuel_type = fuel_type\n",
        "        self.noise_level = noise_level\n",
        "\n",
        "    def __str__(self):\n",
        "        return (\"Engine Information:\\n\"\n",
        "                f\"\\tFuel Type: {self.fuel_type}\\n\"\n",
        "                f\"\\tNoise Level: {self.noise_level} dB\")\n",
        "\n",
        "class Body:\n",
        "    def __init__(self, size):\n",
        "        self.size = size\n",
        "\n",
        "    def __str__(self):\n",
        "        return (\"Body Information:\\n\"\n",
        "                f\"\\tSize: {self.size}\")\n",
        "\n",
        "class Car:\n",
        "    def __init__(self, tyres, engine, body):\n",
        "        self.tyres = tyres\n",
        "        self.engine = engine\n",
        "        self.body = body\n",
        "\n",
        "    def start_engine(self):\n",
        "        print(\"Engine started with fuel:\", self.engine.fuel_type)\n",
        "\n",
        "    def show_car_details(self):\n",
        "        print(\"Car Overview:\")\n",
        "        print(self.tyres)\n",
        "        print(self.engine)\n",
        "        print(self.body)\n",
        "\n",
        "# Objects\n",
        "my_tyres = Tyres(\"MRF\", True, 34)\n",
        "my_engine = Engine(\"Petrol\", 2.3)\n",
        "my_body = Body(\"Sedan\")\n",
        "\n"
      ]
    },
    {
      "cell_type": "code",
      "source": [
        "my_car = Car(my_tyres, my_engine, my_body)\n",
        "\n",
        "my_car.show_car_details()\n",
        "\n",
        "my_car.start_engine()\n"
      ],
      "metadata": {
        "colab": {
          "base_uri": "https://localhost:8080/"
        },
        "id": "uwhcGNbk89Y0",
        "outputId": "fcce6287-2410-4295-fa1a-3b786fe067d3"
      },
      "execution_count": 3,
      "outputs": [
        {
          "output_type": "stream",
          "name": "stdout",
          "text": [
            "Car Overview:\n",
            "Tyres Information:\n",
            "\tBrand: MRF\n",
            "\tBelted Bias: True\n",
            "\tOptimal Pressure: 34 psi\n",
            "Engine Information:\n",
            "\tFuel Type: Petrol\n",
            "\tNoise Level: 2.3 dB\n",
            "Body Information:\n",
            "\tSize: Sedan\n",
            "Engine started with fuel: Petrol\n"
          ]
        }
      ]
    },
    {
      "cell_type": "code",
      "source": [
        "class BankAccount:\n",
        "    def __init__(self, name, balance):\n",
        "        self.name = name                # instance variable\n",
        "        self.balance = balance          # instance variable\n",
        "\n",
        "    def show_balance(self):\n",
        "        print(f\"Account Holder: {self.name}\")\n",
        "        print(f\"Current Balance: ₹{self.balance}\")\n",
        "\n",
        "    def deposit(self, amount):\n",
        "        if amount > 0:\n",
        "            self.balance += amount\n",
        "            print(f\"₹{amount} deposited successfully!\")\n",
        "        else:\n",
        "            print(\"Invalid deposit amount.\")\n",
        "\n",
        "    def withdraw(self, amount):\n",
        "        if amount > self.balance:\n",
        "            print(\"Insufficient balance.\")\n",
        "        elif amount <= 0:\n",
        "            print(\"Withdrawal amount must be positive.\")\n",
        "        else:\n",
        "            self.balance -= amount\n",
        "            print(f\"₹{amount} withdrawn successfully.\")\n",
        "\n"
      ],
      "metadata": {
        "id": "nSKoPbbA8tjt"
      },
      "execution_count": 7,
      "outputs": []
    },
    {
      "cell_type": "code",
      "source": [
        "\n",
        "account1 = BankAccount(\"Ramesh Verma\", 5000)\n",
        "\n",
        "account1.show_balance()\n",
        "\n",
        "\n",
        "account1.deposit(2000)\n",
        "\n",
        "\n",
        "account1.withdraw(1000)\n",
        "\n",
        "account1.show_balance()"
      ],
      "metadata": {
        "colab": {
          "base_uri": "https://localhost:8080/"
        },
        "id": "LVxbuAyv81LY",
        "outputId": "1ef78dd5-abdb-4cc2-bb72-dd044f74fe74"
      },
      "execution_count": 5,
      "outputs": [
        {
          "output_type": "stream",
          "name": "stdout",
          "text": [
            "Account Holder: Ramesh Verma\n",
            "Current Balance: ₹5000\n",
            "₹2000 deposited successfully!\n",
            "₹1000 withdrawn successfully.\n",
            "Account Holder: Ramesh Verma\n",
            "Current Balance: ₹6000\n"
          ]
        }
      ]
    },
    {
      "cell_type": "code",
      "source": [],
      "metadata": {
        "id": "mU9vOIHS9BLA"
      },
      "execution_count": null,
      "outputs": []
    }
  ]
}