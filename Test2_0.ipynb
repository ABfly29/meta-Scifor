{
  "nbformat": 4,
  "nbformat_minor": 0,
  "metadata": {
    "colab": {
      "provenance": []
    },
    "kernelspec": {
      "name": "python3",
      "display_name": "Python 3"
    },
    "language_info": {
      "name": "python"
    }
  },
  "cells": [
    {
      "cell_type": "markdown",
      "source": [
        "# **FUNCTIONS**\n",
        "\n",
        "---\n",
        "\n"
      ],
      "metadata": {
        "id": "RLe9SwJMgZNM"
      }
    },
    {
      "cell_type": "code",
      "execution_count": 1,
      "metadata": {
        "colab": {
          "base_uri": "https://localhost:8080/"
        },
        "id": "l6kriqkKW8yf",
        "outputId": "d97c8272-7545-4907-86df-955da4e94b1d"
      },
      "outputs": [
        {
          "output_type": "stream",
          "name": "stdout",
          "text": [
            "Enter a number to square: 1\n",
            "Square is: 1\n"
          ]
        }
      ],
      "source": [
        "#1- Write a function that takes a number and returns its square.\n",
        "def square_number(num):\n",
        "    result = num * num\n",
        "    return result\n",
        "\n",
        "user_input = int(input(\"Enter a number to square: \"))\n",
        "print(\"Square is:\", square_number(user_input))\n"
      ]
    },
    {
      "cell_type": "code",
      "source": [
        "#2- Write a function that takes two numbers and returns the larger one.\n",
        "def find_larger_number(a, b):\n",
        "    if a > b:\n",
        "        return a\n",
        "    else:\n",
        "        return b\n",
        "\n",
        "num1 = int(input(\"Enter first number: \"))\n",
        "num2 = int(input(\"Enter second number: \"))\n",
        "print(\"Larger number is:\", find_larger_number(num1, num2))\n"
      ],
      "metadata": {
        "colab": {
          "base_uri": "https://localhost:8080/"
        },
        "id": "GOA9CYoKXMFy",
        "outputId": "490469e0-62d9-4197-9c6a-de7e2a174cb9"
      },
      "execution_count": 2,
      "outputs": [
        {
          "output_type": "stream",
          "name": "stdout",
          "text": [
            "Enter first number: 3\n",
            "Enter second number: 5\n",
            "Larger number is: 5\n"
          ]
        }
      ]
    },
    {
      "cell_type": "code",
      "source": [
        "#3- Write a function that prints “Welcome to AIML” five times using a loop.\n",
        "def print_welcome_five_times():\n",
        "    for i in range(5):\n",
        "        print(\"Welcome to AIML\")\n",
        "\n",
        "print_welcome_five_times()"
      ],
      "metadata": {
        "colab": {
          "base_uri": "https://localhost:8080/"
        },
        "id": "6h5QJcnwXYvj",
        "outputId": "f7d2b27e-7911-4f05-8dd7-92589ef8da74"
      },
      "execution_count": 3,
      "outputs": [
        {
          "output_type": "stream",
          "name": "stdout",
          "text": [
            "Welcome to AIML\n",
            "Welcome to AIML\n",
            "Welcome to AIML\n",
            "Welcome to AIML\n",
            "Welcome to AIML\n"
          ]
        }
      ]
    },
    {
      "cell_type": "code",
      "source": [
        "#4- Write a function that checks if a number is even or odd.\n",
        "def check_even_or_odd(num):\n",
        "    if num % 2 == 0:\n",
        "        print(\"The number is Even\")\n",
        "    else:\n",
        "        print(\"The number is Odd\")\n",
        "\n",
        "user_input = int(input(\"Enter a number: \"))\n",
        "check_even_or_odd(user_input)\n"
      ],
      "metadata": {
        "colab": {
          "base_uri": "https://localhost:8080/"
        },
        "id": "frPnI4vwXhUF",
        "outputId": "c89d40b6-6157-4f18-92ad-3bec2fcef231"
      },
      "execution_count": 4,
      "outputs": [
        {
          "output_type": "stream",
          "name": "stdout",
          "text": [
            "Enter a number: 6\n",
            "The number is Even\n"
          ]
        }
      ]
    },
    {
      "cell_type": "code",
      "source": [
        "#5- Create a function that takes a list and returns the sum of all elements.\n",
        "\n",
        "def sum_of_list(numbers):\n",
        "    total = 0\n",
        "    for num in numbers:\n",
        "        total = total + num\n",
        "    return total\n",
        "\n",
        "input_string = input(\"Sequence: \")\n",
        "user_list = list(map(int, input_string.split()))\n",
        "\n",
        "print(\"Sum of all elements is:\", sum_of_list(user_list))\n"
      ],
      "metadata": {
        "colab": {
          "base_uri": "https://localhost:8080/"
        },
        "id": "9qn7mosEXpGw",
        "outputId": "37511f12-c63b-4a16-81eb-eaf337d78866"
      },
      "execution_count": 6,
      "outputs": [
        {
          "output_type": "stream",
          "name": "stdout",
          "text": [
            "Sequence: 1 2 3 4 5\n",
            "Sum of all elements is: 15\n"
          ]
        }
      ]
    },
    {
      "cell_type": "markdown",
      "source": [
        "LOOPS\n"
      ],
      "metadata": {
        "id": "Pxp4IUvjYNEu"
      }
    },
    {
      "cell_type": "code",
      "source": [
        "#1- Write a for loop to print numbers from 1 to 10.\n",
        "for i in range(1, 11):\n",
        "    print(i)\n"
      ],
      "metadata": {
        "colab": {
          "base_uri": "https://localhost:8080/"
        },
        "id": "GIz9qWvsYPMZ",
        "outputId": "bfad9796-d02a-4dc7-8e1d-849e0765d844"
      },
      "execution_count": 7,
      "outputs": [
        {
          "output_type": "stream",
          "name": "stdout",
          "text": [
            "1\n",
            "2\n",
            "3\n",
            "4\n",
            "5\n",
            "6\n",
            "7\n",
            "8\n",
            "9\n",
            "10\n"
          ]
        }
      ]
    },
    {
      "cell_type": "code",
      "source": [
        "\n",
        "#2- Write a while loop to print all even numbers between 1 and 20.\n",
        "\n",
        "num = 2\n",
        "while num <= 20:\n",
        "    print(num)\n",
        "    num = num + 2\n"
      ],
      "metadata": {
        "colab": {
          "base_uri": "https://localhost:8080/"
        },
        "id": "p711l90JYTTK",
        "outputId": "6f470ca6-7dce-4a57-f33b-edb28d6385a9"
      },
      "execution_count": 8,
      "outputs": [
        {
          "output_type": "stream",
          "name": "stdout",
          "text": [
            "2\n",
            "4\n",
            "6\n",
            "8\n",
            "10\n",
            "12\n",
            "14\n",
            "16\n",
            "18\n",
            "20\n"
          ]
        }
      ]
    },
    {
      "cell_type": "code",
      "source": [
        "#3- Write a loop to print each character of a given string.\n",
        "\n",
        "user_text = input(\"Enter a word: \")\n",
        "\n",
        "for letter in user_text:\n",
        "    print(letter)\n"
      ],
      "metadata": {
        "colab": {
          "base_uri": "https://localhost:8080/"
        },
        "id": "AgA4vYy1YaOj",
        "outputId": "8f6e5669-1eca-4c8b-e32c-669af47421dd"
      },
      "execution_count": 9,
      "outputs": [
        {
          "output_type": "stream",
          "name": "stdout",
          "text": [
            "Enter a word: Flypigeon\n",
            "F\n",
            "l\n",
            "y\n",
            "p\n",
            "i\n",
            "g\n",
            "e\n",
            "o\n",
            "n\n"
          ]
        }
      ]
    },
    {
      "cell_type": "code",
      "source": [
        "#4- Write a loop that prints the multiplication table of 5.\n",
        "\n",
        "for i in range(1, 11):\n",
        "    print(\"5 x\", i, \"=\", 5 * i)\n",
        "\n"
      ],
      "metadata": {
        "colab": {
          "base_uri": "https://localhost:8080/"
        },
        "id": "ZjZxkT8BYhhk",
        "outputId": "2986ae1c-9552-4eb6-b5a2-ccb2e20c9a7a"
      },
      "execution_count": 10,
      "outputs": [
        {
          "output_type": "stream",
          "name": "stdout",
          "text": [
            "5 x 1 = 5\n",
            "5 x 2 = 10\n",
            "5 x 3 = 15\n",
            "5 x 4 = 20\n",
            "5 x 5 = 25\n",
            "5 x 6 = 30\n",
            "5 x 7 = 35\n",
            "5 x 8 = 40\n",
            "5 x 9 = 45\n",
            "5 x 10 = 50\n"
          ]
        }
      ]
    },
    {
      "cell_type": "code",
      "source": [
        "#5- Write a loop that takes a list of numbers and prints only the positive ones.\n",
        "\n",
        "user_input = input(\"Sequence: \")\n",
        "user_list = list(map(int, user_input.split()))\n",
        "\n",
        "for num in user_list:\n",
        "    if num > 0:\n",
        "        print(num)"
      ],
      "metadata": {
        "colab": {
          "base_uri": "https://localhost:8080/"
        },
        "id": "m1CRqtOBYvgO",
        "outputId": "baf8d72e-8407-48f1-fd52-e0cadd8db6f5"
      },
      "execution_count": 11,
      "outputs": [
        {
          "output_type": "stream",
          "name": "stdout",
          "text": [
            "Sequence: -4 5 -6 7 8 9\n",
            "5\n",
            "7\n",
            "8\n",
            "9\n"
          ]
        }
      ]
    },
    {
      "cell_type": "markdown",
      "source": [
        "# **TRY & EXCEPT**\n",
        "\n",
        "---\n",
        "\n"
      ],
      "metadata": {
        "id": "4oVnhPCYZBZr"
      }
    },
    {
      "cell_type": "code",
      "source": [
        "#1- Write a function that takes two numbers and divides them. Use try and except to handle divide-by-zero errors.\n",
        "def divide_numbers(a, b):\n",
        "    try:\n",
        "        result = a / b\n",
        "        return result\n",
        "    except ZeroDivisionError:\n",
        "        return \"Error!!\"\n",
        "\n",
        "print(divide_numbers(10, 2))\n",
        "print(divide_numbers(10, 0))\n"
      ],
      "metadata": {
        "colab": {
          "base_uri": "https://localhost:8080/"
        },
        "id": "coAZpSQiZG6Z",
        "outputId": "02b9c97a-22e4-435d-aa56-c71f3ed170c7"
      },
      "execution_count": 12,
      "outputs": [
        {
          "output_type": "stream",
          "name": "stdout",
          "text": [
            "5.0\n",
            "Error!!\n"
          ]
        }
      ]
    },
    {
      "cell_type": "code",
      "source": [
        "#2- Write a program that asks the user for a number and handles the case where the input is not a number using try and except.\n",
        "\n",
        "try:\n",
        "    user_input = input(\"Enter a number: \")\n",
        "    number = float(user_input)\n",
        "    print(\"You entered:\", number)\n",
        "except ValueError:\n",
        "    print(\"not a valid number!!\")\n"
      ],
      "metadata": {
        "colab": {
          "base_uri": "https://localhost:8080/"
        },
        "id": "VIKU57kLZGsE",
        "outputId": "8bc7b229-a8cd-4b77-e8d8-89aa28185b52"
      },
      "execution_count": 13,
      "outputs": [
        {
          "output_type": "stream",
          "name": "stdout",
          "text": [
            "Enter a number: A\n",
            "not a valid number!!\n"
          ]
        }
      ]
    },
    {
      "cell_type": "code",
      "source": [
        "#3- Write a program that opens a file using try, and prints a custom error if the file is not found.\n",
        "\n",
        "try:\n",
        "    file = open(\"data101.csv\", \"r\")\n",
        "    content = file.read()\n",
        "    print(content)\n",
        "    file.close()\n",
        "except FileNotFoundError:\n",
        "    print(\"The file was not found!!\")\n"
      ],
      "metadata": {
        "colab": {
          "base_uri": "https://localhost:8080/"
        },
        "id": "N9p1JDsnZGjI",
        "outputId": "2cd705e0-cb9c-477d-d29c-55c6eed3783e"
      },
      "execution_count": 15,
      "outputs": [
        {
          "output_type": "stream",
          "name": "stdout",
          "text": [
            "The file was not found!!\n"
          ]
        }
      ]
    },
    {
      "cell_type": "code",
      "source": [
        "#4- Create a function that adds two numbers, and raises an error message if one of the inputs is not a number.\n",
        "\n",
        "def add_numbers(a, b):\n",
        "    if not (isinstance(a, (int, float)) and isinstance(b, (int, float))):\n",
        "        raise TypeError(\"Both inputs must be numbers (int or float)\")\n",
        "    return a + b\n",
        "\n",
        "\n",
        "print(add_numbers(4, A))\n",
        "\n"
      ],
      "metadata": {
        "colab": {
          "base_uri": "https://localhost:8080/",
          "height": 193
        },
        "id": "-Uhbab0ZZGdB",
        "outputId": "1074a4cb-34f9-4481-dd1e-7d058c3fd61d"
      },
      "execution_count": 18,
      "outputs": [
        {
          "output_type": "error",
          "ename": "NameError",
          "evalue": "name 'A' is not defined",
          "traceback": [
            "\u001b[0;31m---------------------------------------------------------------------------\u001b[0m",
            "\u001b[0;31mNameError\u001b[0m                                 Traceback (most recent call last)",
            "\u001b[0;32m<ipython-input-18-7bbf19a36b7d>\u001b[0m in \u001b[0;36m<cell line: 0>\u001b[0;34m()\u001b[0m\n\u001b[1;32m      7\u001b[0m \u001b[0;34m\u001b[0m\u001b[0m\n\u001b[1;32m      8\u001b[0m \u001b[0;34m\u001b[0m\u001b[0m\n\u001b[0;32m----> 9\u001b[0;31m \u001b[0mprint\u001b[0m\u001b[0;34m(\u001b[0m\u001b[0madd_numbers\u001b[0m\u001b[0;34m(\u001b[0m\u001b[0;36m4\u001b[0m\u001b[0;34m,\u001b[0m \u001b[0mA\u001b[0m\u001b[0;34m)\u001b[0m\u001b[0;34m)\u001b[0m\u001b[0;34m\u001b[0m\u001b[0;34m\u001b[0m\u001b[0m\n\u001b[0m\u001b[1;32m     10\u001b[0m \u001b[0;34m\u001b[0m\u001b[0m\n",
            "\u001b[0;31mNameError\u001b[0m: name 'A' is not defined"
          ]
        }
      ]
    },
    {
      "cell_type": "code",
      "source": [
        "#5- Write a program using try and except to read an integer from the user safely.\n",
        "\n",
        "try:\n",
        "    user_input = input(\"Enter an integer: \")\n",
        "    number = int(user_input)\n",
        "    print(\"You entered:\", number)\n",
        "except ValueError:\n",
        "    print(\"Not a valid integer!!\")\n"
      ],
      "metadata": {
        "colab": {
          "base_uri": "https://localhost:8080/"
        },
        "id": "vYCmAk5KZGUz",
        "outputId": "2233687c-e568-43c2-f6e4-8bc77f6b0670"
      },
      "execution_count": 19,
      "outputs": [
        {
          "output_type": "stream",
          "name": "stdout",
          "text": [
            "Enter an integer: D\n",
            "Not a valid integer!!\n"
          ]
        }
      ]
    },
    {
      "cell_type": "markdown",
      "source": [
        "# **LAMBDA,MAP& FILTER**\n",
        "\n",
        "---\n",
        "\n"
      ],
      "metadata": {
        "id": "lQmcO3f1a5Bu"
      }
    },
    {
      "cell_type": "code",
      "source": [
        "#1- Use a lambda function to add 10 to a given number.\n",
        "\n",
        "add_10 = lambda x: x + 10\n",
        "print(add_10(5))\n"
      ],
      "metadata": {
        "colab": {
          "base_uri": "https://localhost:8080/"
        },
        "id": "JThR48N0a9Af",
        "outputId": "afe21bff-b8e5-4f6e-8c63-6fe600d345e4"
      },
      "execution_count": 20,
      "outputs": [
        {
          "output_type": "stream",
          "name": "stdout",
          "text": [
            "15\n"
          ]
        }
      ]
    },
    {
      "cell_type": "code",
      "source": [
        "#2- Use map and lambda to convert a list of numbers into their squares.\n",
        "\n",
        "numbers = [1, 2, 3, 4, 5]\n",
        "squares = list(map(lambda x: x * x, numbers))\n",
        "print(squares)\n"
      ],
      "metadata": {
        "colab": {
          "base_uri": "https://localhost:8080/"
        },
        "id": "5Gx_IMpoa8a-",
        "outputId": "bd12e8b4-51e8-4b5a-ee5c-964b1a81776f"
      },
      "execution_count": 21,
      "outputs": [
        {
          "output_type": "stream",
          "name": "stdout",
          "text": [
            "[1, 4, 9, 16, 25]\n"
          ]
        }
      ]
    },
    {
      "cell_type": "code",
      "source": [
        "#3- Use filter and lambda to extract even numbers from a list.\n",
        "numbers = [1, 2, 3, 4, 5, 6, 7]\n",
        "evens = list(filter(lambda x: x % 2 == 0, numbers))\n",
        "print(evens)\n"
      ],
      "metadata": {
        "colab": {
          "base_uri": "https://localhost:8080/"
        },
        "id": "_GUG5jxRa8W3",
        "outputId": "4ca0b421-a528-4a54-c4dd-1dd1147e8915"
      },
      "execution_count": 22,
      "outputs": [
        {
          "output_type": "stream",
          "name": "stdout",
          "text": [
            "[2, 4, 6]\n"
          ]
        }
      ]
    },
    {
      "cell_type": "code",
      "source": [
        "#4- Use map and a lambda to convert a list of lowercase strings to uppercase.\n",
        "words = ['meta', 'scifor', 'technologies']\n",
        "uppercase_words = list(map(lambda x: x.upper(), words))\n",
        "print(uppercase_words)"
      ],
      "metadata": {
        "colab": {
          "base_uri": "https://localhost:8080/"
        },
        "id": "rPQ_tY5ma8Rj",
        "outputId": "feb9d900-4008-4957-fee2-b07f6e014a92"
      },
      "execution_count": 24,
      "outputs": [
        {
          "output_type": "stream",
          "name": "stdout",
          "text": [
            "['META', 'SCIFOR', 'TECHNOLOGIES']\n"
          ]
        }
      ]
    },
    {
      "cell_type": "code",
      "source": [
        "#5- Use filter and a lambda to find numbers greater than 50 in a given list.\n",
        "numbers = [10, 20, 30, 40, 50, 60, 70]\n",
        "greater_than_50 = list(filter(lambda x: x > 50, numbers))"
      ],
      "metadata": {
        "id": "UPERSdPsa8PD"
      },
      "execution_count": 25,
      "outputs": []
    },
    {
      "cell_type": "markdown",
      "source": [
        "# **VARIABLE SCOPE**\n",
        "\n",
        "---\n",
        "\n"
      ],
      "metadata": {
        "id": "qqf1lHH5ei9f"
      }
    },
    {
      "cell_type": "code",
      "source": [
        "1- Write a program to show the use of a global variable inside a function.\n",
        "\n",
        "2- Write a program where a local variable inside a function does not affect a global variable with the same name.\n",
        "\n",
        "3- Create a function that modifies a global variable.\n",
        "\n",
        "4- Write two functions, one that sets a local variable and one that accesses a global variable. Print both.\n",
        "\n",
        "5- Write a function where a variable is declared inside the function and show that it cannot be accessed outside."
      ],
      "metadata": {
        "id": "vPh9zvfKemlO"
      },
      "execution_count": null,
      "outputs": []
    },
    {
      "cell_type": "code",
      "source": [
        "#1- Write a program to show the use of a global variable inside a function.\n",
        "\n",
        "x = 10\n",
        "\n",
        "def show_global():\n",
        "    print(\"Inside function, x =\", x)\n",
        "\n",
        "show_global()\n",
        "print(\"Outside function, x =\", x)\n"
      ],
      "metadata": {
        "colab": {
          "base_uri": "https://localhost:8080/"
        },
        "id": "Y22lTrVGenIT",
        "outputId": "270c4fd7-7652-4974-d0e7-f8b0170e3e1b"
      },
      "execution_count": 26,
      "outputs": [
        {
          "output_type": "stream",
          "name": "stdout",
          "text": [
            "Inside function, x = 10\n",
            "Outside function, x = 10\n"
          ]
        }
      ]
    },
    {
      "cell_type": "code",
      "source": [
        "#2- Write a program where a local variable inside a function does not affect a global variable with the same name.\n",
        "\n",
        "x = 50\n",
        "\n",
        "def local_example():\n",
        "    x = 20\n",
        "    print(\"Inside function, x =\", x)\n",
        "\n",
        "local_example()\n",
        "print(\"Outside function, x =\", x)\n"
      ],
      "metadata": {
        "colab": {
          "base_uri": "https://localhost:8080/"
        },
        "id": "7rZDiiACenGG",
        "outputId": "3e30c9df-37f0-4728-a75e-22eb115ffe0d"
      },
      "execution_count": 27,
      "outputs": [
        {
          "output_type": "stream",
          "name": "stdout",
          "text": [
            "Inside function, x = 20\n",
            "Outside function, x = 50\n"
          ]
        }
      ]
    },
    {
      "cell_type": "code",
      "source": [
        "#3- Create a function that modifies a global variable.\n",
        "\n",
        "count = 10\n",
        "\n",
        "def modify_global():\n",
        "    global count\n",
        "    count += 1\n",
        "    print(\"Inside function, count =\", count)\n",
        "\n",
        "modify_global()\n",
        "print(\"Outside function, count =\", count)\n"
      ],
      "metadata": {
        "colab": {
          "base_uri": "https://localhost:8080/"
        },
        "id": "9R4Cn9WVenDv",
        "outputId": "08781ec9-d9b9-4620-b814-b6166f83ba44"
      },
      "execution_count": 29,
      "outputs": [
        {
          "output_type": "stream",
          "name": "stdout",
          "text": [
            "Inside function, count = 11\n",
            "Outside function, count = 11\n"
          ]
        }
      ]
    },
    {
      "cell_type": "code",
      "source": [
        "#4- Write two functions, one that sets a local variable and one that accesses a global variable. Print both.\n",
        "\n",
        "y = 100\n",
        "\n",
        "def local_set():\n",
        "    y = 5\n",
        "    print(\"Inside local_set, y =\", y)\n",
        "\n",
        "def global_read():\n",
        "    print(\"Inside global_read, y =\", y)\n",
        "\n",
        "local_set()\n",
        "global_read()\n"
      ],
      "metadata": {
        "colab": {
          "base_uri": "https://localhost:8080/"
        },
        "id": "bLKrcJgIenA5",
        "outputId": "d5078236-ba67-4af2-8c39-4c54699a1eae"
      },
      "execution_count": 30,
      "outputs": [
        {
          "output_type": "stream",
          "name": "stdout",
          "text": [
            "Inside local_set, y = 5\n",
            "Inside global_read, y = 100\n"
          ]
        }
      ]
    },
    {
      "cell_type": "code",
      "source": [
        "#5- Write a function where a variable is declared inside the function and show that it cannot be accessed outside.\n",
        "def secret_function():\n",
        "    hidden = \"I'm inside the function\"\n",
        "    print(hidden)\n",
        "\n",
        "secret_function()\n",
        "\n",
        "print(hidden)\n"
      ],
      "metadata": {
        "colab": {
          "base_uri": "https://localhost:8080/",
          "height": 193
        },
        "id": "te3kM1XTfLUM",
        "outputId": "ad509b85-33b5-4a45-bc69-a288c64f99c6"
      },
      "execution_count": 33,
      "outputs": [
        {
          "output_type": "stream",
          "name": "stdout",
          "text": [
            "I'm inside the function\n"
          ]
        },
        {
          "output_type": "error",
          "ename": "NameError",
          "evalue": "name 'hidden' is not defined",
          "traceback": [
            "\u001b[0;31m---------------------------------------------------------------------------\u001b[0m",
            "\u001b[0;31mNameError\u001b[0m                                 Traceback (most recent call last)",
            "\u001b[0;32m<ipython-input-33-e918a256dce5>\u001b[0m in \u001b[0;36m<cell line: 0>\u001b[0;34m()\u001b[0m\n\u001b[1;32m      6\u001b[0m \u001b[0msecret_function\u001b[0m\u001b[0;34m(\u001b[0m\u001b[0;34m)\u001b[0m\u001b[0;34m\u001b[0m\u001b[0;34m\u001b[0m\u001b[0m\n\u001b[1;32m      7\u001b[0m \u001b[0;34m\u001b[0m\u001b[0m\n\u001b[0;32m----> 8\u001b[0;31m \u001b[0mprint\u001b[0m\u001b[0;34m(\u001b[0m\u001b[0mhidden\u001b[0m\u001b[0;34m)\u001b[0m\u001b[0;34m\u001b[0m\u001b[0;34m\u001b[0m\u001b[0m\n\u001b[0m",
            "\u001b[0;31mNameError\u001b[0m: name 'hidden' is not defined"
          ]
        }
      ]
    },
    {
      "cell_type": "code",
      "source": [],
      "metadata": {
        "id": "T78lxHWBgEmn"
      },
      "execution_count": null,
      "outputs": []
    }
  ]
}